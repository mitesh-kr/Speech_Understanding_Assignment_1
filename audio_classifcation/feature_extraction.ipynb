{
  "nbformat": 4,
  "nbformat_minor": 0,
  "metadata": {
    "colab": {
      "provenance": []
    },
    "kernelspec": {
      "name": "python3",
      "display_name": "Python 3"
    },
    "language_info": {
      "name": "python"
    }
  },
  "cells": [
    {
      "cell_type": "code",
      "execution_count": null,
      "metadata": {
        "colab": {
          "base_uri": "https://localhost:8080/"
        },
        "id": "38HFAdnfTyOA",
        "outputId": "0bc83630-6b1f-41d6-9040-7b542fbe6f15"
      },
      "outputs": [
        {
          "output_type": "stream",
          "name": "stdout",
          "text": [
            "Mounted at /content/drive\n"
          ]
        }
      ],
      "source": [
        "from google.colab import drive\n",
        "drive.mount('/content/drive')"
      ]
    },
    {
      "cell_type": "code",
      "source": [
        "import torchaudio\n",
        "import torch\n",
        "import os\n",
        "import numpy as np\n",
        "import torch.nn.functional as F\n",
        "import IPython.display as ipd"
      ],
      "metadata": {
        "id": "bYCfb-3ZT565"
      },
      "execution_count": null,
      "outputs": []
    },
    {
      "cell_type": "code",
      "source": [
        "def hann_window(N):\n",
        "    n = np.arange(N)\n",
        "    return 0.5 * (1 - np.cos(2 * np.pi * n / (N - 1)))\n",
        "\n",
        "def hamm_window(N):\n",
        "    n = np.arange(N)\n",
        "    return 0.54 - 0.46 * np.cos(2 * np.pi * n / (N - 1))\n",
        "\n",
        "def rectangular_window(N):\n",
        "    return np.ones(N)"
      ],
      "metadata": {
        "id": "eWwt6C_pUpDf"
      },
      "execution_count": null,
      "outputs": []
    },
    {
      "cell_type": "code",
      "source": [
        "def compute_stft(file_path, n_fft=1024, win_length=1024, device='cpu', window_type = None):\n",
        "    hop_length = win_length // 2\n",
        "    waveform, sample_rate = torchaudio.load(file_path)\n",
        "\n",
        "    if waveform.shape[0] > 1:\n",
        "        waveform = torch.mean(waveform, dim=0, keepdim=True)\n",
        "\n",
        "    waveform = waveform.to(device)\n",
        "    window = torch.tensor(window_type(win_length), dtype=torch.float32, device=device)\n",
        "    num_frames = (waveform.shape[1] - win_length) // hop_length + 1\n",
        "    spectrogram = torch.zeros(n_fft // 2 + 1, num_frames, device=device)\n",
        "    for i in range(num_frames):\n",
        "        start = i * hop_length\n",
        "        end = start + win_length\n",
        "        frame = waveform[:, start:end]\n",
        "\n",
        "        if frame.shape[1] < win_length:\n",
        "            continue\n",
        "        windowed_frame = frame * window\n",
        "        spectrum = torch.fft.rfft(windowed_frame, n=n_fft)\n",
        "        spectrogram[:, i] = spectrum.abs().squeeze()\n",
        "    spectrogram = spectrogram.unsqueeze(0).unsqueeze(0)\n",
        "    spectrogram = F.interpolate(spectrogram, size=(224, 224), mode='bilinear', align_corners=False)\n",
        "\n",
        "    return  spectrogram.squeeze(0), sample_rate"
      ],
      "metadata": {
        "id": "XqmHZt6TULFo"
      },
      "execution_count": null,
      "outputs": []
    },
    {
      "cell_type": "code",
      "source": [
        "def process_audio_files(audio_path, save_path, window_type):\n",
        "    os.makedirs(save_path, exist_ok=True)\n",
        "    folder_list = [folder for folder in os.listdir(audio_path) if os.path.isdir(os.path.join(audio_path, folder))]\n",
        "    for folder in folder_list:\n",
        "        subfolder_path = os.path.join(audio_path, folder)\n",
        "        for file in os.listdir(subfolder_path):\n",
        "            file_path = os.path.join(subfolder_path, file)\n",
        "            if os.path.isfile(file_path) and file.lower().endswith('.wav'):\n",
        "                _, file_tensor, _ = compute_stft(file_path, window_type=window_type)\n",
        "                tensor_filename = f\"{os.path.splitext(file)[0]}.pt\"\n",
        "                tensor_save_path = os.path.join(save_path, tensor_filename)\n",
        "                torch.save(file_tensor, tensor_save_path)\n",
        "        print(f'{folder}', 'Done')"
      ],
      "metadata": {
        "id": "FqOV7aDQUhDD"
      },
      "execution_count": null,
      "outputs": []
    },
    {
      "cell_type": "code",
      "source": [
        "#Saving Hann tensors\n",
        "audio_path = '/content/drive/MyDrive/SEM_4/SPEECH/UrbanSound8K/audio'\n",
        "save_path = '/content/drive/MyDrive/SEM_4/SPEECH/UrbanSound8K/Hann__Tensor'\n",
        "process_audio_files(audio_path, save_path, hann_window)"
      ],
      "metadata": {
        "colab": {
          "base_uri": "https://localhost:8080/"
        },
        "id": "whP_RqiGjoNy",
        "outputId": "56da528f-430e-45e5-98cb-b1adb26457c0"
      },
      "execution_count": null,
      "outputs": [
        {
          "output_type": "stream",
          "name": "stdout",
          "text": [
            "fold6 Done\n",
            "fold5 Done\n",
            "fold3 Done\n",
            "fold4 Done\n",
            "fold8 Done\n",
            "fold9 Done\n",
            "fold7 Done\n",
            "fold1 Done\n",
            "fold2 Done\n",
            "fold10 Done\n"
          ]
        }
      ]
    },
    {
      "cell_type": "code",
      "source": [
        "#Saving Hann tensors\n",
        "audio_path = '/content/drive/MyDrive/SEM_4/SPEECH/UrbanSound8K/audio'\n",
        "save_path = '/content/drive/MyDrive/SEM_4/SPEECH/UrbanSound8K/Hamm_Tensor'\n",
        "process_audio_files(audio_path, save_path, hamm_window)"
      ],
      "metadata": {
        "colab": {
          "base_uri": "https://localhost:8080/"
        },
        "id": "ir5l_fTJUk2-",
        "outputId": "2da0576c-d91a-4eed-eb88-2d43eadae71b"
      },
      "execution_count": null,
      "outputs": [
        {
          "output_type": "stream",
          "name": "stdout",
          "text": [
            "fold6 Done\n",
            "fold5 Done\n",
            "fold3 Done\n",
            "fold4 Done\n",
            "fold8 Done\n",
            "fold9 Done\n",
            "fold7 Done\n",
            "fold1 Done\n",
            "fold2 Done\n",
            "fold10 Done\n"
          ]
        }
      ]
    },
    {
      "cell_type": "code",
      "source": [
        "#Saving Hann tensors\n",
        "audio_path = '/content/drive/MyDrive/SEM_4/SPEECH/UrbanSound8K/audio'\n",
        "save_path = '/content/drive/MyDrive/SEM_4/SPEECH/UrbanSound8K/Rectangular_Tensor'\n",
        "process_audio_files(audio_path, save_path, rectangular_window)"
      ],
      "metadata": {
        "colab": {
          "base_uri": "https://localhost:8080/"
        },
        "id": "nEU6Ns-JVG6O",
        "outputId": "4317c12a-5589-47e1-a6c6-ad1b5d14e81e"
      },
      "execution_count": null,
      "outputs": [
        {
          "output_type": "stream",
          "name": "stdout",
          "text": [
            "fold6 Done\n",
            "fold5 Done\n",
            "fold3 Done\n",
            "fold4 Done\n",
            "fold8 Done\n",
            "fold9 Done\n",
            "fold7 Done\n",
            "fold1 Done\n",
            "fold2 Done\n",
            "fold10 Done\n"
          ]
        }
      ]
    }
  ]
}